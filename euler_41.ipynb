{
  "nbformat": 4,
  "nbformat_minor": 0,
  "metadata": {
    "colab": {
      "provenance": [],
      "authorship_tag": "ABX9TyMWLR6+pJ6cqpM+r00RO3eS",
      "include_colab_link": true
    },
    "kernelspec": {
      "name": "python3",
      "display_name": "Python 3"
    },
    "language_info": {
      "name": "python"
    }
  },
  "cells": [
    {
      "cell_type": "markdown",
      "metadata": {
        "id": "view-in-github",
        "colab_type": "text"
      },
      "source": [
        "<a href=\"https://colab.research.google.com/github/CFT-EPN/retos_computacionales/blob/main/euler_41.ipynb\" target=\"_parent\"><img src=\"https://colab.research.google.com/assets/colab-badge.svg\" alt=\"Open In Colab\"/></a>"
      ]
    },
    {
      "cell_type": "markdown",
      "source": [
        "# [Pandigital prime](https://projecteuler.net/problem=41)\n",
        "**Problem 41**\n",
        "\n",
        "We shall say that an n-digit number is pandigital if it makes use of all the digits $1$ to $n$ exactly once. For example, $2143$ is a $4$-digit pandigital and is also prime.\n",
        "\n",
        "What is the largest n-digit pandigital prime that exists?"
      ],
      "metadata": {
        "id": "rwTr2hZHeUTr"
      }
    },
    {
      "cell_type": "markdown",
      "source": [
        "## **Solución**"
      ],
      "metadata": {
        "id": "vC6PfY-0jWby"
      }
    },
    {
      "cell_type": "markdown",
      "source": [
        "Este ejercicio lo podemos resolver utilizando [permutaciones](https://es.wikipedia.org/wiki/Permutaci%C3%B3n) del conjunto ordenado $A = \\{1, 2, 3, 4, 5, 6, 7, 8, 9\\}$ o sus subconjuntos. Si se forman números a partir de los elementos de estos conjuntos se cumple de inmediato que estos números son pandigitales. Solamente resta determinar determinar el máximo número pandigital primo dentro de los posibles números que se pueden formar a partir de los subconjuntos de $A$.\n",
        "\n",
        "Usamos la función `permutations` del módulo `itertools` de Python para realizar las permutaciones. \n",
        "\n",
        "Referencia:\n",
        "* https://www.geeksforgeeks.org/python-itertools-permutations/"
      ],
      "metadata": {
        "id": "pHEL0Cb9k2M4"
      }
    },
    {
      "cell_type": "code",
      "source": [
        "#importamos la funcion para hacer permutaciones\n",
        "from itertools import permutations\n",
        "\n",
        "#funcion para determinar si un numero es primo\n",
        "def es_primo(numero):\n",
        "  if numero>1:\n",
        "    for i in range(2, int(numero**0.5+1)):\n",
        "      if(numero%i==0):\n",
        "        return False\n",
        "        break\n",
        "    else: \n",
        "      return True\n",
        "  else: \n",
        "    return False\n",
        "\n",
        "def main():\n",
        "\n",
        "  '''\n",
        "  En lugar de usar un conjunto es mas conveniente utilizar una\n",
        "  variable tipo 'string' con los elementos sobre los que se \n",
        "  haran las permutaciones \n",
        "  '''\n",
        "  numeros = '123456789'\n",
        "  '''\n",
        "  Buscamos la respuesta dentro de un while loop y utilizamos una \n",
        "  variable tipo 'bool' para entrar al loop y para salir cuando \n",
        "  hemos encontrado la respuesta  \n",
        "  '''\n",
        "  flag = True\n",
        "  '''\n",
        "  Variable para controlar el numero de elementos a permutar\n",
        "  Nos conviene empezar a permutar con todos los elementos \n",
        "  pues buscamos el maximo pandigital primo\n",
        "  '''\n",
        "  j = 9\n",
        "\n",
        "  # while loop\n",
        "  while flag:\n",
        "    #permutations toma listas como inputs y 'numeros' es una lista de caracteres, aka string\n",
        "    p = permutations(numeros[:j])\n",
        "    #ordenamos las permutaciones en orden descendente: por defecto es en orden ascendente\n",
        "    p = list(p)[::-1]\n",
        "    for i in p:\n",
        "      #verificamos que el ultimo digito no sea divisible para dos: sino no seria primo\n",
        "      if int(i[j-1]) % 2 != 0:\n",
        "        #formamos el numero: la sintaxis para unir strings es: ''.join(lista o tupla)\n",
        "        numero = int(''.join(i))\n",
        "        #verificamos que el numero no sea multiplo de 3: sino no seria primo\n",
        "        #evitamos verificar con la funcion 'es_primo'\n",
        "        if numero%3!=0:\n",
        "          if es_primo(numero):\n",
        "            #como empezamos en orden descendente el primer numero encuentra es la respuesta\n",
        "            print(\"El número pandigital primo más grande es {}.\".format(numero))\n",
        "            flag = False\n",
        "            break\n",
        "    j -= 1\n",
        "\n",
        "if __name__=='__main__':\n",
        "  main()"
      ],
      "metadata": {
        "colab": {
          "base_uri": "https://localhost:8080/"
        },
        "id": "fZQr98EeuYsf",
        "outputId": "ce69c953-683b-4b38-e331-a440fecf6aa5"
      },
      "execution_count": 1,
      "outputs": [
        {
          "output_type": "stream",
          "name": "stdout",
          "text": [
            "El número pandigital primo más grande es 7652413.\n"
          ]
        }
      ]
    },
    {
      "cell_type": "markdown",
      "source": [
        "Créditos:\n",
        "* https://radiusofcircle.blogspot.com/2016/05/problem-41-project-euler-solution-with-python.html"
      ],
      "metadata": {
        "id": "8YSR3wHpzkFn"
      }
    }
  ]
}