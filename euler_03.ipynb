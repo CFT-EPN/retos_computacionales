{
  "nbformat": 4,
  "nbformat_minor": 0,
  "metadata": {
    "colab": {
      "provenance": [],
      "include_colab_link": true
    },
    "kernelspec": {
      "name": "python3",
      "display_name": "Python 3"
    },
    "language_info": {
      "name": "python"
    }
  },
  "cells": [
    {
      "cell_type": "markdown",
      "metadata": {
        "id": "view-in-github",
        "colab_type": "text"
      },
      "source": [
        "<a href=\"https://colab.research.google.com/github/luispky/retos_computacionales/blob/main/euler_03.ipynb\" target=\"_parent\"><img src=\"https://colab.research.google.com/assets/colab-badge.svg\" alt=\"Open In Colab\"/></a>"
      ]
    },
    {
      "cell_type": "markdown",
      "source": [
        "#[Largest prime factor](https://projecteuler.net/problem=3)\n",
        "**Problem 3**\n",
        "\n",
        "The prime factors of $13195$ are $5$, $7$, $13$ and $29$.\n",
        "\n",
        "What is the largest prime factor of the number $600851475143$?"
      ],
      "metadata": {
        "id": "LGJRUyNCf6J_"
      }
    },
    {
      "cell_type": "markdown",
      "source": [
        "## **Solución**"
      ],
      "metadata": {
        "id": "VxdAeBHpzhgC"
      }
    },
    {
      "cell_type": "markdown",
      "source": [
        "Recordemos que un número es primo si:\n",
        "* es mayor que $1$\n",
        "* tiene como únicos divisores a sí mismo y al $1$\n",
        "\n",
        "Dicho de otra manera, los únicos números que dejan un residuo cero de su división con el número primo son el $1$ y el propio número.\n",
        "\n",
        "Para encontra los factores primos de un número basta ver que los factores primos solo son, a los más, hasta la raíz del número.\n",
        "\n",
        "Extra: [División por tentativa](https://es.wikipedia.org/wiki/Divisi%C3%B3n_por_tentativa)"
      ],
      "metadata": {
        "id": "QRSBRAxuzjuB"
      }
    },
    {
      "cell_type": "code",
      "source": [
        "from numpy import sqrt\n",
        "\n",
        "numero = 600851475143\n",
        "aux = numero #definimos una variable auxiliar para hacer nuestras cuentas\n",
        "factor = 0 #inicializamos una variable que tomara el valor de los factores propios\n",
        "\n",
        "for i in range(1, int(sqrt(numero))):\n",
        "#-------------------------------------  \n",
        "  if(aux%i==0):  #condicion de ser un divisor\n",
        "    aux = aux/i #actualizamos nuestra variable 'aux' porque encontramos uno de sus divisores\n",
        "    factor = i #asignamos el divisor a nuestra variable 'factor'\n",
        "#-------------------------------------\n",
        "print(\"El factor primo más grane de %d es %d.\"%(numero, factor))"
      ],
      "metadata": {
        "colab": {
          "base_uri": "https://localhost:8080/"
        },
        "id": "w-wt2CuN6pxP",
        "outputId": "9bd8a291-6d60-4a28-d44f-2e89ee7f7eda"
      },
      "execution_count": 1,
      "outputs": [
        {
          "output_type": "stream",
          "name": "stdout",
          "text": [
            "El factor primo más grane de 600851475143 es 6857.\n"
          ]
        }
      ]
    }
  ]
}