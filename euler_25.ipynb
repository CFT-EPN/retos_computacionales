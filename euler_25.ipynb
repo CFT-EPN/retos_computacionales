{
  "nbformat": 4,
  "nbformat_minor": 0,
  "metadata": {
    "colab": {
      "provenance": [],
      "authorship_tag": "ABX9TyMEefs9HF6Gqse/Gr/O/8nX",
      "include_colab_link": true
    },
    "kernelspec": {
      "name": "python3",
      "display_name": "Python 3"
    },
    "language_info": {
      "name": "python"
    }
  },
  "cells": [
    {
      "cell_type": "markdown",
      "metadata": {
        "id": "view-in-github",
        "colab_type": "text"
      },
      "source": [
        "<a href=\"https://colab.research.google.com/github/CFT-EPN/retos_computacionales/blob/main/euler_25.ipynb\" target=\"_parent\"><img src=\"https://colab.research.google.com/assets/colab-badge.svg\" alt=\"Open In Colab\"/></a>"
      ]
    },
    {
      "cell_type": "markdown",
      "source": [
        "#[1000-digit Fibonacci number](https://projecteuler.net/problem=25)\n",
        "**Problem 25**\n",
        "\n",
        "The Fibonacci sequence is defined by the recurrence relation:\n",
        "\n",
        "$F_n = F_{n−1} + F_{n−2}$, where $F_{1} = 1$ and $F_{2} = 1$.\n",
        "Hence the first 12 terms will be:\n",
        "\n",
        "$$\n",
        "F_1 = 1\\\\\n",
        "F_2 = 1\\\\\n",
        "F_3 = 2\\\\\n",
        "F_4 = 3\\\\\n",
        "F_5 = 5\\\\\n",
        "F_6 = 8\\\\\n",
        "F_7 = 13\\\\\n",
        "F_8 = 21\\\\\n",
        "F_9 = 34\\\\\n",
        "F_{10} = 55\\\\\n",
        "F_{11} = 89\\\\\n",
        "F_{12} = 144\n",
        "$$\n",
        "\n",
        "The 12th term, $F_{12}$, is the first term to contain three digits.\n",
        "\n",
        "What is the index of the first term in the Fibonacci sequence to contain $1000$ digits?"
      ],
      "metadata": {
        "id": "xY1L2qXnOGfH"
      }
    },
    {
      "cell_type": "markdown",
      "source": [
        "## **Solución**"
      ],
      "metadata": {
        "id": "qgsyg1Wun5sn"
      }
    },
    {
      "cell_type": "markdown",
      "source": [
        "* Obs: Notemos que nos pide el índice del primer número en la sucesión de Fibonacci que contiene $1000$ dígitos, i.e., $\\sim 10^{999}$, este es un número muy grande. No confundirse con el primer número de Fibonacci que supere $1000 = 10^3$.\n",
        "\n",
        "Existen diversas maneras de plantear la condición para la resolución del problema. A continuación presentamos dos de ellas."
      ],
      "metadata": {
        "id": "W3rD8TiLoyW_"
      }
    },
    {
      "cell_type": "code",
      "execution_count": 1,
      "metadata": {
        "id": "crYiTcxDOE57",
        "colab": {
          "base_uri": "https://localhost:8080/"
        },
        "outputId": "e8ccb658-f81d-4ee0-d613-17ed19833b18"
      },
      "outputs": [
        {
          "output_type": "stream",
          "name": "stdout",
          "text": [
            "El número 1070066266382758936764980584457396885083683896632151665013235203375314520604694040621889147582489792657804694888177591957484336466672569959512996030461262748092482186144069433051234774442750273781753087579391666192149259186759553966422837148943113074699503439547001985432609723067290192870526447243726117715821825548491120525013201478612965931381792235559657452039506137551467837543229119602129934048260706175397706847068202895486902666185435124521900369480641357447470911707619766945691070098024393439617474103736912503231365532164773697023167755051595173518460579954919410967778373229665796581646513903488154256310184224190259846088000110186255550245493937113651657039447629584714548523425950428582425306083544435428212611008992863795048006894330309773217834864543113205765659868456288616808718693835297350643986297640660000723562917905207051164077614812491885830945940566688339109350944456576357666151619317753792891661581327159616877487983821820492520348473874384736771934512787029218636250627816 \n",
            " es el primer número de Fibonacci con 1000 dígitos \n",
            " y su índice es el 4782.\n"
          ]
        }
      ],
      "source": [
        "'''\n",
        "Intento 1: utilizaremos la razon entre los numeros de la sucesion y \n",
        "el limite impuesto en el problema. Cuando el cociente sea mayor que 1 \n",
        "habremos encontrado el numero buscado, asi como su indice.\n",
        "Es decir, utilizaremos un ciclo while.\n",
        "'''\n",
        "#Inicializamos algunas variables\n",
        "fm2 = 1\n",
        "fm1 = 1\n",
        "nindex = 2 #hasta ahora tenemos 2 numeros de Fibonacci\n",
        "limite_fibonacci = pow(10, 999)\n",
        "fn = 1 #valor inicial 'referencial' para entrar en el ciclo while\n",
        "\n",
        "#inicializamos la razon: numero de Fibonacci/limite\n",
        "ratio = fn/limite_fibonacci\n",
        "\n",
        "#ciclo while acorde al planteamiento\n",
        "while ratio<1:\n",
        "  fn = fm1+fm2 #numeros de Fibonacci\n",
        "  nindex += 1 \n",
        "  fm2 = fm1\n",
        "  fm1 = fn\n",
        "  ratio = fn/limite_fibonacci\n",
        "\n",
        "print(\"El número {} \\n es el primer número de Fibonacci con 1000 dígitos \\n y su índice es el {}.\".format(fn, nindex))"
      ]
    },
    {
      "cell_type": "code",
      "source": [
        "#Obs: utilizar la notacion exponencial '1e999' genera una variable indefinida\n",
        "#que Python lo identifica con el 'infinito' y no podemos hacer operaciones\n",
        "#por esta razón utilizamos la función nativa 'pow' para resolver este problema\n",
        "\n",
        "print(1e999)\n",
        "print(pow(10, 999))"
      ],
      "metadata": {
        "colab": {
          "base_uri": "https://localhost:8080/"
        },
        "id": "VvNBcJRlsExc",
        "outputId": "f36dc17f-843b-480a-847f-ff1c5c96f621"
      },
      "execution_count": 2,
      "outputs": [
        {
          "output_type": "stream",
          "name": "stdout",
          "text": [
            "inf\n",
            "1000000000000000000000000000000000000000000000000000000000000000000000000000000000000000000000000000000000000000000000000000000000000000000000000000000000000000000000000000000000000000000000000000000000000000000000000000000000000000000000000000000000000000000000000000000000000000000000000000000000000000000000000000000000000000000000000000000000000000000000000000000000000000000000000000000000000000000000000000000000000000000000000000000000000000000000000000000000000000000000000000000000000000000000000000000000000000000000000000000000000000000000000000000000000000000000000000000000000000000000000000000000000000000000000000000000000000000000000000000000000000000000000000000000000000000000000000000000000000000000000000000000000000000000000000000000000000000000000000000000000000000000000000000000000000000000000000000000000000000000000000000000000000000000000000000000000000000000000000000000000000000000000000000000000000000000000000000000000000000000000000000000000000000000000000000000000000\n"
          ]
        }
      ]
    },
    {
      "cell_type": "code",
      "source": [
        "'''\n",
        "Intento 2: podemos convertir los numeros enteros de la serie de Fibonacci en \n",
        "strings y contar la longitud los strings, que tambien es el numero de digitos \n",
        "de cada numero de la serie.\n",
        "Nuevamente usamos un ciclo while pero nuestra condicion ahora implica\n",
        "directamente a los digitos de los numeros de la serie de Fibonacci.\n",
        "'''\n",
        "#Inicializamos algunas variables\n",
        "fm2 = 1\n",
        "fm1 = 1\n",
        "nindex = 2\n",
        "\n",
        "limite_digitos_fibonacci = 1000\n",
        "digitos_fibonacci = 1 #los primeros dos numeros de la serie solo tiene un digito\n",
        "\n",
        "while digitos_fibonacci<limite_digitos_fibonacci:\n",
        "  fn = fm1+fm2 \n",
        "  nindex += 1\n",
        "  fm2 = fm1\n",
        "  fm1 = fn\n",
        "  digitos_fibonacci = len(str(fn))\n",
        "\n",
        "print(\"El número {} \\n es el primer número de Fibonacci con 1000 dígitos \\n y su índice es el {}.\".format(fn, nindex))"
      ],
      "metadata": {
        "colab": {
          "base_uri": "https://localhost:8080/"
        },
        "id": "KkijbcE8p1VA",
        "outputId": "f38c043f-7bc4-4bfb-a1bc-fc188b2a19d2"
      },
      "execution_count": 3,
      "outputs": [
        {
          "output_type": "stream",
          "name": "stdout",
          "text": [
            "El número 1070066266382758936764980584457396885083683896632151665013235203375314520604694040621889147582489792657804694888177591957484336466672569959512996030461262748092482186144069433051234774442750273781753087579391666192149259186759553966422837148943113074699503439547001985432609723067290192870526447243726117715821825548491120525013201478612965931381792235559657452039506137551467837543229119602129934048260706175397706847068202895486902666185435124521900369480641357447470911707619766945691070098024393439617474103736912503231365532164773697023167755051595173518460579954919410967778373229665796581646513903488154256310184224190259846088000110186255550245493937113651657039447629584714548523425950428582425306083544435428212611008992863795048006894330309773217834864543113205765659868456288616808718693835297350643986297640660000723562917905207051164077614812491885830945940566688339109350944456576357666151619317753792891661581327159616877487983821820492520348473874384736771934512787029218636250627816 \n",
            " es el primer número de Fibonacci con 1000 dígitos \n",
            " y su índice es el 4782.\n"
          ]
        }
      ]
    }
  ]
}