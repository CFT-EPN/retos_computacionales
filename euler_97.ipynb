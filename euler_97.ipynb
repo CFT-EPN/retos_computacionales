{
  "nbformat": 4,
  "nbformat_minor": 0,
  "metadata": {
    "colab": {
      "provenance": [],
      "toc_visible": true,
      "authorship_tag": "ABX9TyN5MlUKwYgadu8FKg47gp8e",
      "include_colab_link": true
    },
    "kernelspec": {
      "name": "python3",
      "display_name": "Python 3"
    },
    "language_info": {
      "name": "python"
    }
  },
  "cells": [
    {
      "cell_type": "markdown",
      "metadata": {
        "id": "view-in-github",
        "colab_type": "text"
      },
      "source": [
        "<a href=\"https://colab.research.google.com/github/CFT-EPN/retos_computacionales/blob/main/euler_97.ipynb\" target=\"_parent\"><img src=\"https://colab.research.google.com/assets/colab-badge.svg\" alt=\"Open In Colab\"/></a>"
      ]
    },
    {
      "cell_type": "markdown",
      "source": [
        "#[Large non-Mersenne prime](https://projecteuler.net/problem=97)\n",
        "**Problem 97**\n",
        "\n",
        "The first known prime found to exceed one million digits was discovered in 1999, and is a Mersenne prime of the form $2^{6972593}−1$; it contains exactly 2098960 digits. Subsequently other Mersenne primes, of the form $2^p−1$, have been found which contain more digits.\n",
        "\n",
        "However, in 2004 there was found a massive non-Mersenne prime which contains 2357207 digits: $28433×2^{7830457}+1$.\n",
        "\n",
        "Find the last ten digits of this prime number."
      ],
      "metadata": {
        "id": "oawAega-xMim"
      }
    },
    {
      "cell_type": "markdown",
      "source": [
        "## **Solución**"
      ],
      "metadata": {
        "id": "F3nZuMg3iyrz"
      }
    },
    {
      "cell_type": "markdown",
      "source": [
        "### **Discusión**"
      ],
      "metadata": {
        "id": "C5hy9MdlPQjT"
      }
    },
    {
      "cell_type": "markdown",
      "source": [
        "Podemos resolver este ejercicio de diferentes maneras, unas más eficientes que otras. La solución más simple consiste en intentar calcular el número pedido, transformar este número a una variable tipo *string* y obtener sus últimos 10 dígitos. Sin embargo, este enfoque es el más ineficiente, es simple pero fácil de implementar y ahí su falla. Además, mediante este enfoque se utiliza \"mucha\" memoria.  \n",
        "\n",
        "Otro enfoque más eficiente, simple pero no tan fácil, consiste en utilizar de manera adecuada la [aritmética modular](https://en.wikipedia.org/wiki/Modular_arithmetic#:~:text=In%20mathematics%2C%20modular%20arithmetic%20is,Disquisitiones%20Arithmeticae%2C%20published%20in%201801.). Aquí simplemente es usar el operador '%' (módulo) pero entender un poco más a profundidad su utilidad.\n",
        "\n",
        "Sea $n>1$ un entero y sean $a$, $b$ enteros, decimos que $a$ y $b$ son congruentes módulo $n$, si $n$ es un divisor de su diferencia tal que:\n",
        "\n",
        "$$a - b = kn$$\n",
        "\n",
        "donde $k$ es un entero.\n",
        "\n",
        "Esto se denota por $a \\equiv b (mod\\; n)$. Notemos que $a$ y $b$ sean congruentes significa que cuando $a$ y $b$ son divididos por $n$ tienen el mismo residuo y no que $b$ es el residuo de dividir $a$ entre $n$. Así, sean $p$ y $q$ enteros, podemos tener:\n",
        "\n",
        "$$ a  = pn + r $$\n",
        "y\n",
        "$$ b = qn + r  $$\n",
        "\n",
        "donde $0 \\leq r < n$.\n",
        "\n",
        "En nuestro caso podemos utilizar la \"operación\" módulo para encontrar los últimos 10 dígitos del número $28433×2^{7830457}+1$ en formar de un residuo, el cual tiene a lo mucho el mismo número de dígitos que el módulo. Para esto lo único que debemos hacer es calcular el valor de este número y hacer la operación módulo con el número $10^{\\text{número de dígitos}}$. "
      ],
      "metadata": {
        "id": "F5oI2plIjVvm"
      }
    },
    {
      "cell_type": "markdown",
      "source": [
        "### **Código**"
      ],
      "metadata": {
        "id": "lJIBCUaTPL6A"
      }
    },
    {
      "cell_type": "code",
      "source": [
        "from time import perf_counter"
      ],
      "metadata": {
        "id": "GwvSqiNZAOKr"
      },
      "execution_count": 1,
      "outputs": []
    },
    {
      "cell_type": "code",
      "source": [
        "'''\n",
        "ENFOQUE EFICIENTE\n",
        "Puede ser mejorado: la potenciación podría ser ineficiente en otras circunstancias\n",
        "'''\n",
        "def main():\n",
        "  mod = 10**10\n",
        "  return (28433*pow(2, 7830457)+1)%mod\n",
        "\n",
        "if __name__ == '__main__':\n",
        "  \n",
        "  start = perf_counter()\n",
        "  print(\"Los últimos 10 dígitos del número 28433*2^(7830457)+1 son {}\".format(main()))\n",
        "  total_time = perf_counter() - start\n",
        "\n",
        "  print('Tiempo: {} s'.format(total_time))"
      ],
      "metadata": {
        "colab": {
          "base_uri": "https://localhost:8080/"
        },
        "id": "SkrGpsthkH2v",
        "outputId": "8d39bc48-ec92-4900-9b7f-7d94a90c67ea"
      },
      "execution_count": 2,
      "outputs": [
        {
          "output_type": "stream",
          "name": "stdout",
          "text": [
            "Los últimos 10 dígitos del número 28433*2^(7830457)+1 son 8739992577\n",
            "Tiempo: 0.09529054399990855 s\n"
          ]
        }
      ]
    },
    {
      "cell_type": "code",
      "source": [
        "'''\n",
        "ENFOQUE INEFICIENTE\n",
        "'''\n",
        "def main():\n",
        "  return str(28433*pow(2, 7830457)+1)[-10:]\n",
        "\n",
        "if __name__ == '__main__':\n",
        "  \n",
        "  start = perf_counter()\n",
        "  print(\"Los últimos 10 dígitos del número 28433*2^(7830457)+1 son {}\".format(main()))\n",
        "  total_time = perf_counter() - start\n",
        "\n",
        "  print('Tiempo: {} s'.format(total_time))"
      ],
      "metadata": {
        "colab": {
          "base_uri": "https://localhost:8080/"
        },
        "id": "fhew0LCKlhNo",
        "outputId": "28e0067c-ade4-43f8-ef87-1a7bc37fb627"
      },
      "execution_count": 3,
      "outputs": [
        {
          "output_type": "stream",
          "name": "stdout",
          "text": [
            "Los últimos 10 dígitos del número 28433*2^(7830457)+1 son 8739992577\n",
            "Tiempo: 93.35321173400007 s\n"
          ]
        }
      ]
    }
  ]
}