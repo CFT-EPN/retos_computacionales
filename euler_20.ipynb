{
  "nbformat": 4,
  "nbformat_minor": 0,
  "metadata": {
    "colab": {
      "provenance": [],
      "authorship_tag": "ABX9TyMwOgNuWe20ha5hUJLEvTQe",
      "include_colab_link": true
    },
    "kernelspec": {
      "name": "python3",
      "display_name": "Python 3"
    },
    "language_info": {
      "name": "python"
    }
  },
  "cells": [
    {
      "cell_type": "markdown",
      "metadata": {
        "id": "view-in-github",
        "colab_type": "text"
      },
      "source": [
        "<a href=\"https://colab.research.google.com/github/CFT-EPN/retos_computacionales/blob/main/euler_20.ipynb\" target=\"_parent\"><img src=\"https://colab.research.google.com/assets/colab-badge.svg\" alt=\"Open In Colab\"/></a>"
      ]
    },
    {
      "cell_type": "markdown",
      "source": [
        "#[Factorial digit sum](https://projecteuler.net/problem=20)\n",
        "**Problem 20**\n",
        "\n",
        "$n!$ means $n × (n − 1) × ... × 3 × 2 × 1$\n",
        "\n",
        "For example, $10! = 10 × 9 × ... × 3 × 2 × 1 = 3628800$,\n",
        "and the sum of the digits in the number $10!$ is $3 + 6 + 2 + 8 + 8 + 0 + 0 = 27$.\n",
        "\n",
        "Find the sum of the digits in the number $100!$"
      ],
      "metadata": {
        "id": "AkOLRcySNOR2"
      }
    },
    {
      "cell_type": "markdown",
      "source": [
        "## **Solución**"
      ],
      "metadata": {
        "id": "yorOdq8s8TVF"
      }
    },
    {
      "cell_type": "code",
      "source": [
        "#funcion recursiva para calcular el factorial de un numero entero 'n'\n",
        "#la declaracion 'n: int' implica que la funcion solamente funcionara con un numero entero\n",
        "def factorial(n: int):\n",
        "  if n==0:\n",
        "    return 1 #definicion de factorial\n",
        "  else:\n",
        "    return n*factorial(n-1) #recurrencia\n",
        "\n",
        "#funcion para calcular la suma de los digitos del factorial de un numero\n",
        "def suma_factorial_digitos(n: int):\n",
        "  '''\n",
        "  convertimos el valor del factorial en un string y mediante list comprehension\n",
        "  transformamos cada digito del factorial en un numero entero de una lista  \n",
        "  '''\n",
        "  lista_digitos = [int(x) for x in str(factorial(n))]\n",
        "  #finalmente utilizamos la funcion nativa de python para sumar los elementos de la lista\n",
        "  return sum(lista_digitos) "
      ],
      "metadata": {
        "id": "-JkNM6rYwK-s"
      },
      "execution_count": 1,
      "outputs": []
    },
    {
      "cell_type": "code",
      "source": [
        "numero = 100\n",
        "\n",
        "print(\" El factorial del número %.d es: \\n %.d, \\n y la suma de sus dígitos es %.d.\"%(numero, factorial(numero), suma_factorial_digitos(numero)))"
      ],
      "metadata": {
        "colab": {
          "base_uri": "https://localhost:8080/"
        },
        "id": "p2eKVDsmv-4x",
        "outputId": "37ddaac4-be82-4d98-9f20-e9b3f915592e"
      },
      "execution_count": 2,
      "outputs": [
        {
          "output_type": "stream",
          "name": "stdout",
          "text": [
            " El factorial del número 100 es: \n",
            " 93326215443944152681699238856266700490715968264381621468592963895217599993229915608941463976156518286253697920827223758251185210916864000000000000000000000000, \n",
            " y la suma de sus dígitos es 648.\n"
          ]
        }
      ]
    }
  ]
}