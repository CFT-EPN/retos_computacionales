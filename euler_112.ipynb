{
  "nbformat": 4,
  "nbformat_minor": 0,
  "metadata": {
    "colab": {
      "provenance": [],
      "authorship_tag": "ABX9TyPublVR1F/Z+Nqm4gqY/+Gs",
      "include_colab_link": true
    },
    "kernelspec": {
      "name": "python3",
      "display_name": "Python 3"
    },
    "language_info": {
      "name": "python"
    }
  },
  "cells": [
    {
      "cell_type": "markdown",
      "metadata": {
        "id": "view-in-github",
        "colab_type": "text"
      },
      "source": [
        "<a href=\"https://colab.research.google.com/github/CFT-EPN/retos_computacionales/blob/main/euler_112.ipynb\" target=\"_parent\"><img src=\"https://colab.research.google.com/assets/colab-badge.svg\" alt=\"Open In Colab\"/></a>"
      ]
    },
    {
      "cell_type": "markdown",
      "source": [
        "#[Bouncy numbers](https://projecteuler.net/problem=112)\n",
        "**Problem 112**\n",
        "\n",
        "Working from left-to-right if no digit is exceeded by the digit to its left it is called an increasing number; for example, $134468$.\n",
        "\n",
        "Similarly if no digit is exceeded by the digit to its right it is called a decreasing number; for example, $66420$.\n",
        "\n",
        "We shall call a positive integer that is neither increasing nor decreasing a \"bouncy\" number; for example, $155349$.\n",
        "\n",
        "Clearly there cannot be any bouncy numbers below one-hundred, but just over half of the numbers below one-thousand ($525$) are bouncy. In fact, the least number for which the proportion of bouncy numbers first reaches $50\\%$ is $538$.\n",
        "\n",
        "Surprisingly, bouncy numbers become more and more common and by the time we reach $21780$ the proportion of bouncy numbers is equal to $90\\%$.\n",
        "\n",
        "Find the least number for which the proportion of bouncy numbers is exactly $99\\%$."
      ],
      "metadata": {
        "id": "-l1M9qIty5tM"
      }
    },
    {
      "cell_type": "markdown",
      "source": [
        "## **Solución**"
      ],
      "metadata": {
        "id": "lbq5M7wzTnwL"
      }
    },
    {
      "cell_type": "markdown",
      "source": [
        "Este es un problema sencillo. Solamente tenemos que comprobar si los dígitos de un número están en orden ascendente o descendente. Para esto usaremos la función nativa `all` de Python. Esta función devuelve `True` si todos los elementos de un objeto iterable (listas, dictionarios, tuplas, conjuntos,...) son verdaderos, de lo contrario retorna `False`. \n",
        "\n",
        "Referencias:\n",
        "* https://www.geeksforgeeks.org/python-all-function/ "
      ],
      "metadata": {
        "id": "VKdCHrrHXZwJ"
      }
    },
    {
      "cell_type": "code",
      "execution_count": 1,
      "metadata": {
        "id": "vmx3dE_9y4Eb",
        "colab": {
          "base_uri": "https://localhost:8080/"
        },
        "outputId": "a39d854e-f8be-42ad-ca79-5cd60cab8c51"
      },
      "outputs": [
        {
          "output_type": "stream",
          "name": "stdout",
          "text": [
            "Número tal que la proporción de números rebotadores es 99%:  1587000\n"
          ]
        }
      ],
      "source": [
        "'''\n",
        "Funcion para determinar si un numero dado es 'rebotante' o no.\n",
        "Generamos una 'comprehension list' y la pasamos a la funcion 'all' para determinar \n",
        "si un numero es 'rebotante' o no.\n",
        "'''\n",
        "def is_bouncy(number):\n",
        "  #convertimos el numero a caracteres y estos a una lista de numeros con los digitos de nuestro numero\n",
        "  digits = list(str(number))\n",
        "\n",
        "  #indicador para determinar si el numero es 'rebotador'\n",
        "  flag = True \n",
        "  #orden ascendente\n",
        "  if(all(digits[i] <= digits[i + 1] for i in range(len(digits)-1))):\n",
        "    flag = False\n",
        "  #orden descendente\n",
        "  elif(all(digits[i] >= digits[i + 1] for i in range(len(digits)-1))):\n",
        "    flag = False\n",
        "  return flag\n",
        "\n",
        "'''\n",
        "Nomenclatura (def main) innecesaria para englobar a la parte del codigo que se encarga \n",
        "de los calculos principales\n",
        "'''\n",
        "def main():\n",
        "  #numero inicial para contar los numeros rebotadores\n",
        "  number = 100 \n",
        "  #inicializamos el contador de los numeros rebotadores\n",
        "  bouncy_num = 0\n",
        "\n",
        "  while True:\n",
        "    number += 1\n",
        "    if(is_bouncy(number)):\n",
        "      bouncy_num += 1\n",
        "    \n",
        "    #condicion para verificar la proporcion de los numeros rebotadores\n",
        "    if(bouncy_num/number >= 0.99):\n",
        "      print(\"Número tal que la proporción de números rebotadores es 99%: \", number)\n",
        "      break\n",
        "      \n",
        "if __name__=='__main__':\n",
        "  main()"
      ]
    }
  ]
}