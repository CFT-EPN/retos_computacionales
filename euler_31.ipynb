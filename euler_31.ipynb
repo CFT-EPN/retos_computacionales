{
  "nbformat": 4,
  "nbformat_minor": 0,
  "metadata": {
    "colab": {
      "provenance": [],
      "authorship_tag": "ABX9TyONAJvmAf02DbJCRoiZsjtL",
      "include_colab_link": true
    },
    "kernelspec": {
      "name": "python3",
      "display_name": "Python 3"
    },
    "language_info": {
      "name": "python"
    }
  },
  "cells": [
    {
      "cell_type": "markdown",
      "metadata": {
        "id": "view-in-github",
        "colab_type": "text"
      },
      "source": [
        "<a href=\"https://colab.research.google.com/github/CFT-EPN/retos_computacionales/blob/main/euler_31.ipynb\" target=\"_parent\"><img src=\"https://colab.research.google.com/assets/colab-badge.svg\" alt=\"Open In Colab\"/></a>"
      ]
    },
    {
      "cell_type": "markdown",
      "source": [
        "# [Coin sums](https://projecteuler.net/problem=31)\n",
        "**Problem 31**\n",
        "\n",
        "In the United Kingdom the currency is made up of pound (£) and pence (p). There are eight coins in general circulation:\n",
        "\n",
        "1p, 2p, 5p, 10p, 20p, 50p, £1 (100p), and £2 (200p).\n",
        "It is possible to make £2 in the following way:\n",
        "\n",
        "1×£1 + 1×50p + 2×20p + 1×5p + 1×2p + 3×1p\n",
        "How many different ways can £2 be made using any number of coins?"
      ],
      "metadata": {
        "id": "nhGaROJux-PQ"
      }
    },
    {
      "cell_type": "markdown",
      "source": [
        "## **Solución**"
      ],
      "metadata": {
        "id": "R3_NZ_x39D82"
      }
    },
    {
      "cell_type": "markdown",
      "source": [
        "Podemos enfocar este problema desde el punto de vista del álgebra lineal. De esa manera, nuestras 8 monedas $\\{1, 2, 5, 10, 20, 50, 100, 200\\}$ forman una base que permite expresar cualquier cantidad $x$ mediante una combinación lineal de la siguiente manera:\n",
        "\n",
        "$$ 1c_{1} + 2c_{2} + 5c_{3} + 10c_{4} + 20c_{5} + 50c_{6} + 100c_{7} + 200c_{8} = x$$\n",
        "\n",
        "De esta manera, para cualquier $x$ debemos encontrar todos los parámetros libres $c_{i} \\in \\mathbb{Z}^{+}$, $i=1, \\ldots, 8$, que permiten expresar este elemento. \n",
        "\n",
        "Para eso, podemos empezar determinando el número de veces que $200$, el valor máximo, permite expresar $x$, i.e., calculamos $c_{8} \\in \\mathbb{Z}^{+}$. En otras palabras, empezamos con todos los $c_{i} = 0$ a excepción de $c_{8}$ y lo calculamos. Después,  tomamos todos los $c_{i} = 0$ a excepción de $\\{c_{7}, c_{8}\\}$ y calculamos $c_{7}$ a partir de $x$ y $c_{8}$. Así, continuamos hasta determinar $c_{1}$ para estimar el número máximo de combinaciones que podemos realizar con los elementos de nuestra base."
      ],
      "metadata": {
        "id": "4ksC4z-WmdqX"
      }
    },
    {
      "cell_type": "code",
      "source": [
        "'''\n",
        "Implementacion del algoritmo descrito\n",
        "Se puede calcular el numero de combinaciones de todas las monedas para sumar \n",
        "cualquier cantidad y no solamente 200p.\n",
        "'''\n",
        "def main(objetivo):\n",
        "  #objetivo =  #monto/numero total objetivo: x\n",
        "  m = [1, 2, 5, 10, 20, 50, 100, 200] #monedas/base\n",
        "  '''\n",
        "  Notemos que cuando el 'objetivo' es menor que 200, o cualquier otra moneda, \n",
        "  entonces no se incluye esa moneda y esto se regula en las condiciones para \n",
        "  las iteraciones dentro de las funciones 'range' \n",
        "  '''\n",
        "  combinaciones = 1 if objetivo < m[7] else objetivo//m[7] \n",
        "  for c8 in range(objetivo//m[7] + 1):\n",
        "    for c7 in range((objetivo - m[7]*c8)//m[6] + 1):\n",
        "      for c6 in range((objetivo - m[7]*c8 - m[6]*c7)//m[5] + 1):\n",
        "        for c5 in range((objetivo - m[7]*c8 - m[6]*c7 - m[5]*c6)//m[4] + 1):\n",
        "          for c4 in range((objetivo - m[7]*c8 - m[6]*c7 - m[5]*c6 - m[4]*c5)//m[3] + 1):\n",
        "            for c3 in range((objetivo - m[7]*c8 - m[6]*c7 - m[5]*c6 - m[4]*c5 - m[3]*c4)//m[2] + 1):\n",
        "              for c2 in range((objetivo - m[7]*c8 - m[6]*c7 - m[5]*c6 - m[4]*c5 - m[3]*c4 - m[2]*c3)//m[1] + 1):\n",
        "                combinaciones += 1\n",
        "  return combinaciones - 1 #los bucles cuentan un combinacion adicional y por eso la quitamos \n",
        "if __name__=='__main__':\n",
        "  print(\"Respuesta: {} \".format(main(200)))"
      ],
      "metadata": {
        "colab": {
          "base_uri": "https://localhost:8080/"
        },
        "id": "07F9rxGchl-D",
        "outputId": "46c15b9e-7d28-4dd2-b623-b64595f15a1b"
      },
      "execution_count": 1,
      "outputs": [
        {
          "output_type": "stream",
          "name": "stdout",
          "text": [
            "Respuesta: 73682 \n"
          ]
        }
      ]
    }
  ]
}