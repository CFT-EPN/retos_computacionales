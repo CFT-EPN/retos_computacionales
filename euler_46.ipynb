{
  "nbformat": 4,
  "nbformat_minor": 0,
  "metadata": {
    "colab": {
      "provenance": [],
      "authorship_tag": "ABX9TyN48FTjCzVaaePiqBjEm8MU",
      "include_colab_link": true
    },
    "kernelspec": {
      "name": "python3",
      "display_name": "Python 3"
    },
    "language_info": {
      "name": "python"
    }
  },
  "cells": [
    {
      "cell_type": "markdown",
      "metadata": {
        "id": "view-in-github",
        "colab_type": "text"
      },
      "source": [
        "<a href=\"https://colab.research.google.com/github/CFT-EPN/retos_computacionales/blob/main/euler_46.ipynb\" target=\"_parent\"><img src=\"https://colab.research.google.com/assets/colab-badge.svg\" alt=\"Open In Colab\"/></a>"
      ]
    },
    {
      "cell_type": "markdown",
      "source": [
        "# [Goldbach's other conjecture](https://projecteuler.net/problem=46)\n",
        "**Problem 46**\n",
        "\n",
        "It was proposed by Christian Goldbach that every odd composite number can be written as the sum of a prime and twice a square.\n",
        "\n",
        "$$\n",
        "9 = 7 + 2×1^2\\\\\n",
        "15 = 7 + 2×2^2\\\\\n",
        "21 = 3 + 2×3^2\\\\\n",
        "25 = 7 + 2×3^2\\\\\n",
        "27 = 19 + 2×2^2\\\\\n",
        "33 = 31 + 2×1^2\\\\\n",
        "$$\n",
        "\n",
        "It turns out that the conjecture was false.\n",
        "\n",
        "What is the smallest odd composite that cannot be written as the sum of a prime and twice a square?"
      ],
      "metadata": {
        "id": "6E6jYXX4eoA5"
      }
    },
    {
      "cell_type": "markdown",
      "source": [
        "## **Solución**"
      ],
      "metadata": {
        "id": "Clrv_e1ijS_5"
      }
    },
    {
      "cell_type": "markdown",
      "source": [
        "La  Otra Conjetura de Goldbach es:\n",
        "$$\n",
        "n  = p + 2k^2\n",
        "$$\n",
        "donde $n$ es un número impar, $p$ es un número primo, y $k$ es un número entero.\n",
        "\n",
        "Reescribiendo tenemos:\n",
        "$$\n",
        "k = \\sqrt{\\dfrac{n-p}{2}} \\in \\mathbb{Z}^+ \\tag{1}\n",
        "$$\n",
        "\n",
        "Notemos que $n$ al ser un número compuesto no es un número primo y, de $(1)$, además $p<n$.\n",
        "\n",
        "Con esto en mente podemos ver que podemos iterar sobre todos los números primos menores que $n$ y determinar cuándo obtenemos un **número entero**, en donde detendríamos la iteración y se cumple la Otra Conjectura de Goldbach. Caso contrario la conjectura no se cumple y obtendíamos el número impar buscado.\n",
        "\n",
        "**Obs: Para solucionar este problema se debe pensar más desde el punto de vista computacional que matemático.**"
      ],
      "metadata": {
        "id": "VRcQneDfyufG"
      }
    },
    {
      "cell_type": "code",
      "source": [
        "from math import sqrt\n",
        "\n",
        "#funcion para determinar si un numero es primo\n",
        "def es_primo(numero):\n",
        "  if numero>1:\n",
        "    for i in range(2, int(sqrt(numero)+1)):\n",
        "      if(numero%i==0):\n",
        "        return False\n",
        "        break\n",
        "    else: \n",
        "      return True\n",
        "  else: \n",
        "    return False\n",
        "\n",
        "def main():\n",
        "\n",
        "  #variables del programa\n",
        "  impar = 3 #itera sobre todos los numeros impares \n",
        "  primos = [2] #lista que almacena todos los primos que se vayan encontrando\n",
        "\n",
        "  '''\n",
        "  'while True' es un loop infinito que podemos deternelo con una sentencia 'break'\n",
        "  cuando no se cumpla nuestra condición, es decir, pasamos de 'True' a 'False'\n",
        "  '''\n",
        "  while True:\n",
        "    '''\n",
        "    sabemos que 'impar' no es primo pero lo utilizamos para determinar nuestra\n",
        "    lista de primos, pues salvo el '2', todos los primos son impares\n",
        "    '''\n",
        "    if es_primo(impar):\n",
        "      primos.append(impar)\n",
        "    #Otra Conjetura de Goldbach\n",
        "    else:\n",
        "      for primo in primos: #loop sobre todos los primos\n",
        "        #si la Otra Conjetura de Goldbach es cierta (1) dar un entero \n",
        "        if sqrt(((impar-primo)/2)) == int(sqrt(((impar-primo)/2))):\n",
        "          '''\n",
        "          El lado derecho retorna un 'float' y el lado izquierdo un 'int' (o lo redondea)\n",
        "          Sin embargo, si el 'float' es un entero entonces Python retorna la comparación\n",
        "          entre el 'float' entero y 'int' entero como 'True'\n",
        "          '''\n",
        "          break #si se cumple simplemente cortamos la iteración sobre los primos\n",
        "        '''\n",
        "        si no encontró nada en el loop podemos utilizar un condicional 'else'\n",
        "        para dar el caso contrario, que en este caso es imprimir el número impar\n",
        "        buscado (que no encontró un número primo que cumpla la conjetura) y detener el loop\n",
        "        '''  \n",
        "      else:   \n",
        "        return impar\n",
        "        break\n",
        "    impar += 2\n",
        "\n",
        "if __name__ == '__main__':\n",
        "  print(\"El compuesto impar más pequeño que no se puede escribir como la suma de un número primo y el doble de un cuadrado es {}.\".format(main()))"
      ],
      "metadata": {
        "colab": {
          "base_uri": "https://localhost:8080/"
        },
        "id": "28NyH-pXxVf2",
        "outputId": "a8057730-6d90-4465-d74c-d3a9f17f079f"
      },
      "execution_count": 1,
      "outputs": [
        {
          "output_type": "stream",
          "name": "stdout",
          "text": [
            "El compuesto impar más pequeño que no se puede escribir como la suma de un número primo y el doble de un cuadrado es 5777.\n"
          ]
        }
      ]
    }
  ]
}