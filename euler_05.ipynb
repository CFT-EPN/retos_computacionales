{
  "nbformat": 4,
  "nbformat_minor": 0,
  "metadata": {
    "colab": {
      "provenance": [],
      "authorship_tag": "ABX9TyM4nOC6Pf5ABdsnrK4wKaOp",
      "include_colab_link": true
    },
    "kernelspec": {
      "name": "python3",
      "display_name": "Python 3"
    },
    "language_info": {
      "name": "python"
    }
  },
  "cells": [
    {
      "cell_type": "markdown",
      "metadata": {
        "id": "view-in-github",
        "colab_type": "text"
      },
      "source": [
        "<a href=\"https://colab.research.google.com/github/CFT-EPN/retos_computacionales/blob/main/euler_05.ipynb\" target=\"_parent\"><img src=\"https://colab.research.google.com/assets/colab-badge.svg\" alt=\"Open In Colab\"/></a>"
      ]
    },
    {
      "cell_type": "markdown",
      "source": [
        "# [Smallest multiple](https://projecteuler.net/problem=5)\n",
        "**Problem 5**\n",
        "\n",
        "$2520$ is the smallest number that can be divided by each of the numbers from $1$ to $10$ without any remainder.\n",
        "\n",
        "What is the smallest positive number that is evenly divisible by all of the numbers from $1$ to $20$?"
      ],
      "metadata": {
        "id": "Rmq8mSQVMhWH"
      }
    },
    {
      "cell_type": "markdown",
      "source": [
        "## **Solución**"
      ],
      "metadata": {
        "id": "zuO-NzgnCmj6"
      }
    },
    {
      "cell_type": "markdown",
      "source": [
        "En este caso se nos pide el número positivo más pequeño que es divisible por un conjunto de números. Sin embargo, esta es la definición del mínimo común múltiplo (LCM en inglés). \n",
        "\n",
        "Sea conjunto de números  $\\{a_{1}, \\ldots, a_{n}\\}$, con $n>1$, el LCM es el número más pequeño que es divisible por todos los números del conjunto, tal que: \n",
        "\n",
        "$$L = a_{1}\\times\\ldots \\times a_{n}$$\n",
        "\n",
        "Existen diferentes formas de calcular el mínimo común múltiplo pero para resolver este problema haremos uso de otra definición, que es, la del máximo común divisor (GCD en inglés). \n",
        "\n",
        "Sean $a$ y $b$ enteros, el GCD es el entero positivo más grande que divide a ambos enteros. Por ejemplo, el GCD de $8$ y $12$ es $4$. Además, el mínimo común múltiplo de $a$ y $b$ se relaciona con su máximo común divisor mediante la siguiente expresión:\n",
        "\n",
        "$$lcm(a, b) = \\dfrac{a\\cdot b}{gcd(a\\cdot b)}$$\n",
        "\n",
        "Por otro lado, para hallar el máximo común divisor utilizaremos la siguiente relación del algoritmo Euclídeo:\n",
        "$$gcd(a, b) = gcd(b, a \\mod b)\\; ,\\;\\;\\;\\; a>b$$\n",
        "tal que el algortimo termina cuando se encuentra el GCD y se tiene un residuo de $0$. \n",
        "\n",
        "Referencias: \n",
        "* https://en.wikipedia.org/wiki/Least_common_multiple\n",
        "* https://en.wikipedia.org/wiki/Greatest_common_divisor"
      ],
      "metadata": {
        "id": "ID_wfex4_Qxs"
      }
    },
    {
      "cell_type": "code",
      "source": [
        "'''\n",
        "funcion para calcular el maximo comun divisor\n",
        "implementacion del algoritmo Euclideo\n",
        "'''\n",
        "def gcd(x, y):\n",
        "  factores = [x, y]\n",
        "  while factores[0]!=0 and factores[1]!=0:\n",
        "    maximo = max(factores)\n",
        "    minimo = min(factores)\n",
        "    residuo = maximo%minimo\n",
        "    factores[0]=minimo\n",
        "    factores[1]=residuo\n",
        "  return factores[0] \n",
        "  #el algoritmo garantiza que el primer elemento de la lista es el GCD\n",
        "\n",
        "#verificacion del ejemplo mostrado en Wikipedia\n",
        "print(gcd(48, 18))"
      ],
      "metadata": {
        "colab": {
          "base_uri": "https://localhost:8080/"
        },
        "id": "4hreHFhWMByl",
        "outputId": "cf78dfd0-e67e-4bd7-b4f8-d5d00fdccb45"
      },
      "execution_count": 1,
      "outputs": [
        {
          "output_type": "stream",
          "name": "stdout",
          "text": [
            "6\n"
          ]
        }
      ]
    },
    {
      "cell_type": "code",
      "source": [
        "'''\n",
        "Como el LCM de un conjunto es el producto de los numeros del conjunto entonces\n",
        "podemos utilizar la relacion entre el LCM y el GCD iterativamente\n",
        "'''\n",
        "lcm = 1 #inicializamos el valor que contendra al LCM \n",
        "for i in range(2, 21): #iteraciones desde 2 hasta 21-1=20\n",
        "  lcm = i*lcm/gcd(i, lcm) #relacion LCM y GCD\n",
        "print(\"El mínimo común múltiplo de los números del 1 al 20 es: %.d\" %lcm)"
      ],
      "metadata": {
        "colab": {
          "base_uri": "https://localhost:8080/"
        },
        "id": "-q0C3BH2MAvv",
        "outputId": "e288a35f-8bb8-4cba-825d-1f1d690e98f3"
      },
      "execution_count": 2,
      "outputs": [
        {
          "output_type": "stream",
          "name": "stdout",
          "text": [
            "El mínimo común múltiplo de los números del 1 al 20 es: 232792560\n"
          ]
        }
      ]
    },
    {
      "cell_type": "markdown",
      "source": [
        "A continuación presentamos una implementación del algoritmo sugerido en la página de Wikipedia. Recomendamos analizar la implementación para entender algunos conceptos de programación y de Python. La implementación se comprobó con el ejemplo de Wikipedia, que es un conjunto pequeño. Sin embargo, para conjuntos de muchos números esta implementación es ineficiente y demora mucho.  "
      ],
      "metadata": {
        "id": "uP-M0qMcTFVU"
      }
    },
    {
      "cell_type": "code",
      "source": [
        "import numpy as np\n",
        "X_1 = np.array([3,4,6])\n",
        "X_m = X_1.copy()\n",
        "while sum(np.abs(np.diff(X_m))) != 0:\n",
        "  xk0 = min(X_m)\n",
        "  index = np.where(X_m==xk0)[0][0]\n",
        "  X_m[index] = xk0 + X_1[index]\n",
        "X_m[0]"
      ],
      "metadata": {
        "colab": {
          "base_uri": "https://localhost:8080/"
        },
        "id": "DpaUUcyKCCqJ",
        "outputId": "31d2353a-5128-42d4-a129-39646719839c"
      },
      "execution_count": 3,
      "outputs": [
        {
          "output_type": "execute_result",
          "data": {
            "text/plain": [
              "12"
            ]
          },
          "metadata": {},
          "execution_count": 3
        }
      ]
    }
  ]
}