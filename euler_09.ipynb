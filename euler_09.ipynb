{
  "nbformat": 4,
  "nbformat_minor": 0,
  "metadata": {
    "colab": {
      "provenance": [],
      "include_colab_link": true
    },
    "kernelspec": {
      "name": "python3",
      "display_name": "Python 3"
    },
    "language_info": {
      "name": "python"
    }
  },
  "cells": [
    {
      "cell_type": "markdown",
      "metadata": {
        "id": "view-in-github",
        "colab_type": "text"
      },
      "source": [
        "<a href=\"https://colab.research.google.com/github/CFT-EPN/retos_computacionales/blob/main/euler_09.ipynb\" target=\"_parent\"><img src=\"https://colab.research.google.com/assets/colab-badge.svg\" alt=\"Open In Colab\"/></a>"
      ]
    },
    {
      "cell_type": "markdown",
      "source": [
        "#[Special Pythagorean triplet](https://projecteuler.net/problem=9)\n",
        "**Problem 9**\n",
        "\n",
        "A Pythagorean triplet is a set of three natural numbers, $a < b < c$, for which,\n",
        "\n",
        "$$a^2 + b^2 = c^2$$\n",
        "\n",
        "For example, $3^2 + 4^2 = 9 + 16 = 25 = 5^2$.\n",
        "\n",
        "There exists exactly one Pythagorean triplet for which $a + b + c = 1000$.\n",
        "\n",
        "Find the product $abc$."
      ],
      "metadata": {
        "id": "NnQJCK0plULx"
      }
    },
    {
      "cell_type": "markdown",
      "source": [
        "## **Solución**"
      ],
      "metadata": {
        "id": "sc4rnEFJCecX"
      }
    },
    {
      "cell_type": "code",
      "execution_count": 1,
      "metadata": {
        "colab": {
          "base_uri": "https://localhost:8080/"
        },
        "id": "bitpsakYlO7D",
        "outputId": "b72b815d-4d1e-4e7d-fa9d-468574b3c3d7"
      },
      "outputs": [
        {
          "output_type": "stream",
          "name": "stdout",
          "text": [
            "a = 200, b=375, c=425\n",
            "a^2 + b^2 = c^2: 40000 + 140625 = 180625\n",
            "a*b*c = 31875000\n"
          ]
        }
      ],
      "source": [
        "#De nuestras condiciones sabemos que a<1000 pero como no tenemos una mejor cota \n",
        "#y 10^3 iteraciones no son un problema tomamos 1<a<1000\n",
        "for a in range(1, 1000): #0<a\n",
        "  #Reducimos las iteraciones utilizando las condiciones que tenemos\n",
        "  for b in range(a, 1000): #a<b\n",
        "  #Nuevamente solo utilizamos las condiciones proporcionadas,\n",
        "  # hacerlo de otra manera seria ineficiente\n",
        "    c = 1000 - a - b #a+b+c = 1000 | a<b ? c\n",
        "    if(a*a+b*b == c*c):\n",
        "      print('a = %d, b=%d, c=%d' %(a, b, c))\n",
        "      print('a^2 + b^2 = c^2: %d + %d = %d' %(a*a, b*b, c*c))\n",
        "      print('a*b*c = %d' %(a*b*c))"
      ]
    },
    {
      "cell_type": "markdown",
      "source": [
        "Y como podemos ver, solamente existe una terna Pitagórica que cumple las condiciones."
      ],
      "metadata": {
        "id": "VxxwJurSpGBB"
      }
    }
  ]
}