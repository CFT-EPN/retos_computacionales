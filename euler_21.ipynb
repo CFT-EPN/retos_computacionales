{
  "nbformat": 4,
  "nbformat_minor": 0,
  "metadata": {
    "colab": {
      "provenance": [],
      "authorship_tag": "ABX9TyNH5FK0zmnSFCTAZoqPNVlC",
      "include_colab_link": true
    },
    "kernelspec": {
      "name": "python3",
      "display_name": "Python 3"
    },
    "language_info": {
      "name": "python"
    }
  },
  "cells": [
    {
      "cell_type": "markdown",
      "metadata": {
        "id": "view-in-github",
        "colab_type": "text"
      },
      "source": [
        "<a href=\"https://colab.research.google.com/github/CFT-EPN/retos_computacionales/blob/main/euler_21.ipynb\" target=\"_parent\"><img src=\"https://colab.research.google.com/assets/colab-badge.svg\" alt=\"Open In Colab\"/></a>"
      ]
    },
    {
      "cell_type": "markdown",
      "source": [
        "#[Amicable numbers](https://projecteuler.net/problem=21)\n",
        "**Problem 21**\n",
        "\n",
        "Let $d(n)$ be defined as the sum of proper divisors of $n$ (numbers less than $n$ which divide evenly into $n$).\n",
        "If $d(a) = b$ and $d(b) = a$, where $a ≠ b$, then a and b are an amicable pair and each of $a$ and $b$ are called amicable numbers.\n",
        "\n",
        "For example, the proper divisors of $220$ are $1, 2, 4, 5, 10, 11, 20, 22, 44, 55$ and $110$; therefore $d(220) = 284$. The proper divisors of $284$ are $1, 2, 4, 71$ and $142$; so $d(284) = 220$.\n",
        "\n",
        "Evaluate the sum of all the amicable numbers under $10000$."
      ],
      "metadata": {
        "id": "X1yrnvm7OoN1"
      }
    },
    {
      "cell_type": "markdown",
      "source": [
        "## Solución"
      ],
      "metadata": {
        "id": "YgM-mVRbFhUZ"
      }
    },
    {
      "cell_type": "markdown",
      "source": [
        "En el [ejercicio 12](https://github.com/CFT-EPN/retos_computacionales/blob/95378b3c5f289bdbb38cee81b5d4a71f6f3226f6/euler_12.ipynb) vimos que utilizar un enfoque de fuerza bruta puede no ser idónero para calcular los factores (o divisores) de un número. Si el número se hace muy grande habrán que realizar muchas más operaciones para estimar los factores. En este ejercicio no tenemos que hacer muchas cuentas (por el límite impuesto en el problema: $10000$) y, por tanto, podemos utilizar un enfoque simple para el cálculo de los divisores de un número. Esto es importante pues nos ahorra tiempo en la resolución de nuestra problema particular empleando la solución más simple posible. \n",
        "\n",
        "Obs: para resolver un problema computacional podemos partir tratando de estimar el costo computacional y el número de operaciones necesarias que tomará una solución particular antes de implementarla. De esa manera podemos estimar el tiempo que tomará nuestra implementación y si sería mejor pensar en una solución más eficiente. Sin embargo, si no estamos seguros también podemos empezar implementando nuestra solución, observar que sucede y, quizá, optimizar nuestra implementación. \n",
        "\n",
        "* Prácticamente, APLICAR EL MÉTODO CIENTÍFICO.  "
      ],
      "metadata": {
        "id": "RPRgAYXaF0y0"
      }
    },
    {
      "cell_type": "code",
      "source": [
        "def suma_divisores(numero): \n",
        "    suma = 0\n",
        "    for i in range (1,numero): #no incluido el numero \n",
        "        if ((numero%i)==0): \n",
        "            suma += i\n",
        "    return (suma)\n",
        "\n",
        "def suma_amigable(limite_amigable):\n",
        "\n",
        "  lista_amigables = []\n",
        "\n",
        "  for a in range(1,limite_amigable): \n",
        "    b = suma_divisores(a)\n",
        "    if ((suma_divisores(b)==a) & (a!=b)): \n",
        "      lista_amigables.append(a)\n",
        "\n",
        "  return sum(lista_amigables)"
      ],
      "metadata": {
        "id": "ziRAzsbyCq-H"
      },
      "execution_count": 1,
      "outputs": []
    },
    {
      "cell_type": "code",
      "source": [
        "numero_limite = 10000\n",
        "\n",
        "print(\"La suma de todos los números amigables menores que {} es: {}\".format(numero_limite, suma_amigable(numero_limite)))"
      ],
      "metadata": {
        "colab": {
          "base_uri": "https://localhost:8080/"
        },
        "id": "_9NNh1n8_hok",
        "outputId": "fdbe222d-b1ee-4962-878a-32dd9ad5a55c"
      },
      "execution_count": 2,
      "outputs": [
        {
          "output_type": "stream",
          "name": "stdout",
          "text": [
            "La suma de todos los números amigables menores que 10000 es: 31626\n"
          ]
        }
      ]
    }
  ]
}