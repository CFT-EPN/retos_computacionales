{
  "nbformat": 4,
  "nbformat_minor": 0,
  "metadata": {
    "colab": {
      "provenance": [],
      "authorship_tag": "ABX9TyO/4ZSchRFiuPIDHiGz3fSQ",
      "include_colab_link": true
    },
    "kernelspec": {
      "name": "python3",
      "display_name": "Python 3"
    },
    "language_info": {
      "name": "python"
    }
  },
  "cells": [
    {
      "cell_type": "markdown",
      "metadata": {
        "id": "view-in-github",
        "colab_type": "text"
      },
      "source": [
        "<a href=\"https://colab.research.google.com/github/CFT-EPN/retos_computacionales/blob/main/euler_33.ipynb\" target=\"_parent\"><img src=\"https://colab.research.google.com/assets/colab-badge.svg\" alt=\"Open In Colab\"/></a>"
      ]
    },
    {
      "cell_type": "markdown",
      "source": [
        "#[Digit cancelling fractions](https://projecteuler.net/problem=33)\n",
        "**Problem 33**\n",
        "\n",
        "The fraction $49/98$ is a curious fraction, as an inexperienced mathematician in attempting to simplify it may incorrectly believe that $49/98 = 4/8$, which is correct, is obtained by cancelling the $9$s.\n",
        "\n",
        "We shall consider fractions like, $30/50 = 3/5$, to be trivial examples.\n",
        "\n",
        "There are exactly four non-trivial examples of this type of fraction, less than one in value, and containing two digits in the numerator and denominator.\n",
        "\n",
        "If the product of these four fractions is given in its lowest common terms, find the value of the denominator."
      ],
      "metadata": {
        "id": "Q_-WiYZ8zutG"
      }
    },
    {
      "cell_type": "markdown",
      "source": [
        "##**Solución**"
      ],
      "metadata": {
        "id": "lUhG6cm3dBEW"
      }
    },
    {
      "cell_type": "markdown",
      "source": [
        "Este ejercicio es bastante sencillo en Python. Saber o, más convenientemente, consultar acerca de las diferentes librerías, módulos y paquetes que tiene Python es importante a la hora de resolver problemas que de lo contrario requerirían un enfoque diferente, lo cual podría implicar mayor tiempo en la resolución de un problema. Se puede llegar a una solución elegante a partir de resolver un problema desde cero pero en ocaciones es útil producir resultados sobre una solución ingeniosa, y en este caso haremos nos enfocaremos en utilizar adecuadamente las herramientas disponibles para resolver el problema.\n",
        "\n",
        "El módulo [fractions](https://docs.python.org/3/library/fractions.html) permite realizar operaciones aritméticas con fracciones de tal manera que podemos mantener por separado el numerador y el denominador de una fracción, y a la vez operar con la fracción como con cualquier otro número."
      ],
      "metadata": {
        "id": "eJB645l-RYpY"
      }
    },
    {
      "cell_type": "code",
      "source": [
        "from fractions import Fraction\n",
        "\n",
        "#inicializamos la variable para el producto de las fracciones\n",
        "producto = 1\n",
        "\n",
        "#ciclo para el numerador\n",
        "for i in range(10,100):\n",
        "  #ciclo para el denominador tq. numerador/denominador < 1 \n",
        "  for j in range(i+1,100):\n",
        "\n",
        "    #extraemos el digito repetido entre el numerador y el denominador\n",
        "    digito_repetido = list(set(str(i))&set(str(j)))\n",
        "\n",
        "    #verificacion de digito repetido\n",
        "    if len(digito_repetido) != 0:\n",
        "      #verificacion de que el digito no sea cero: caso trivial\n",
        "      if digito_repetido[0] != '0':\n",
        "        numerador = list(str(i))\n",
        "        denominador = list(str(j))\n",
        "\n",
        "        #removemos el digito repetido del numerador\n",
        "        numerador.remove(digito_repetido[0])\n",
        "        #removemos el digito repetido del denominador\n",
        "        denominador.remove(digito_repetido[0])\n",
        "\n",
        "        #condicion para evitar la division por cero \n",
        "        if denominador[0]!='0':\n",
        "          #condicion del problema\n",
        "          if Fraction(int(numerador[0]),int(denominador[0])) == Fraction(i,j):\n",
        "            #producto de las fracciones: lo convertimos en un objeto de la 'clase' Fraction\n",
        "            #esto implica tener el numerador y el denominador por separado\n",
        "            producto *= Fraction(i,j)\n",
        "\n",
        "#utilizamos el atributo 'denominador' del objeto 'producto'    \n",
        "print('Respuesta: {}'.format(producto.denominator))"
      ],
      "metadata": {
        "colab": {
          "base_uri": "https://localhost:8080/"
        },
        "id": "dPe98K7xLnRp",
        "outputId": "9fa6201a-05b6-4af8-b062-6a423935ad59"
      },
      "execution_count": 1,
      "outputs": [
        {
          "output_type": "stream",
          "name": "stdout",
          "text": [
            "Respuesta: 100\n"
          ]
        }
      ]
    }
  ]
}