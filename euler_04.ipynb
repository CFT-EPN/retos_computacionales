{
  "nbformat": 4,
  "nbformat_minor": 0,
  "metadata": {
    "colab": {
      "provenance": [],
      "collapsed_sections": [],
      "authorship_tag": "ABX9TyPjNT+v6jBgk/t/e/djKMFv",
      "include_colab_link": true
    },
    "kernelspec": {
      "name": "python3",
      "display_name": "Python 3"
    },
    "language_info": {
      "name": "python"
    }
  },
  "cells": [
    {
      "cell_type": "markdown",
      "metadata": {
        "id": "view-in-github",
        "colab_type": "text"
      },
      "source": [
        "<a href=\"https://colab.research.google.com/github/CFT-EPN/retos_computacionales/blob/main/euler_04.ipynb\" target=\"_parent\"><img src=\"https://colab.research.google.com/assets/colab-badge.svg\" alt=\"Open In Colab\"/></a>"
      ]
    },
    {
      "cell_type": "markdown",
      "source": [
        "#Largest palindrome product\n",
        "\n",
        "**Problem 4**\n",
        "\n",
        "A palindromic number reads the same both ways. The largest palindrome made from the product of two 2-digit numbers is 9009 = 91 × 99.\n",
        "\n",
        "Find the largest palindrome made from the product of two 3-digit numbers."
      ],
      "metadata": {
        "id": "ZYqruO_yiTfT"
      }
    },
    {
      "cell_type": "code",
      "execution_count": null,
      "metadata": {
        "id": "j5cWZdquiFwX"
      },
      "outputs": [],
      "source": [
        "#vamos a incluir en una lista todos los numeros palindromos productos de numeros de 3 digitos\n",
        "lista = []\n",
        "for i in range(100, 1000):\n",
        "  for j in range(100, 1000):\n",
        "    producto = i*j\n",
        "    #no queremos repetir cuentas asi que utilizamos un condicional\n",
        "    if(j<i):\n",
        "      #condicion para saber si un numero es palindromo: es util trabajar con strings\n",
        "      if(str(producto)==str(producto)[::-1]):\n",
        "        #añadimos a la lista tanto el producto como los numeros que lo generan\n",
        "        lista.append([producto, i, j])"
      ]
    },
    {
      "cell_type": "code",
      "source": [
        "#podemos ordenar toda la lista con la funcion sorted respecto de la columna de los productos y recuperar el maximo\n",
        "sorted(lista, key=lambda x : x[0])[-1]"
      ],
      "metadata": {
        "colab": {
          "base_uri": "https://localhost:8080/"
        },
        "id": "MGSW6AFDi-pd",
        "outputId": "b0b9a8ba-6896-43f7-88d4-2f113b7a5bdc"
      },
      "execution_count": null,
      "outputs": [
        {
          "output_type": "execute_result",
          "data": {
            "text/plain": [
              "[906609, 993, 913]"
            ]
          },
          "metadata": {},
          "execution_count": 3
        }
      ]
    },
    {
      "cell_type": "code",
      "source": [
        "#o podemos simplemente tomar el maximo de la lista, que en este caso asume que es respecto de la columna del producto\n",
        "max(lista)"
      ],
      "metadata": {
        "colab": {
          "base_uri": "https://localhost:8080/"
        },
        "id": "Jj1OsVi7jauj",
        "outputId": "fcb533a2-814c-4799-d7b8-62b9bdebca16"
      },
      "execution_count": null,
      "outputs": [
        {
          "output_type": "execute_result",
          "data": {
            "text/plain": [
              "[906609, 993, 913]"
            ]
          },
          "metadata": {},
          "execution_count": 4
        }
      ]
    }
  ]
}