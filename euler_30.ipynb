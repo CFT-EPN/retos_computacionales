{
  "nbformat": 4,
  "nbformat_minor": 0,
  "metadata": {
    "colab": {
      "provenance": [],
      "authorship_tag": "ABX9TyMOqn0qBsikXTdPJFuS9Gyo",
      "include_colab_link": true
    },
    "kernelspec": {
      "name": "python3",
      "display_name": "Python 3"
    },
    "language_info": {
      "name": "python"
    }
  },
  "cells": [
    {
      "cell_type": "markdown",
      "metadata": {
        "id": "view-in-github",
        "colab_type": "text"
      },
      "source": [
        "<a href=\"https://colab.research.google.com/github/CFT-EPN/retos_computacionales/blob/main/euler_30.ipynb\" target=\"_parent\"><img src=\"https://colab.research.google.com/assets/colab-badge.svg\" alt=\"Open In Colab\"/></a>"
      ]
    },
    {
      "cell_type": "markdown",
      "source": [
        "#[Digit fifth powers](https://projecteuler.net/problem=30)\n",
        "**Problem 30**\n",
        "\n",
        "Surprisingly there are only three numbers that can be written as the sum of fourth powers of their digits:\n",
        "$$\n",
        "1634 = 1^4 + 6^4 + 3^4 + 4^4\\\\\n",
        "8208 = 8^4 + 2^4 + 0^4 + 8^4\\\\\n",
        "9474 = 9^4 + 4^4 + 7^4 + 4^4\\\\\n",
        "$$\n",
        "\n",
        "As $1 = 1^4$ is not a sum it is not included.\n",
        "\n",
        "The sum of these numbers is $1634 + 8208 + 9474 = 19316$.\n",
        "\n",
        "Find the sum of all the numbers that can be written as the sum of fifth powers of their digits."
      ],
      "metadata": {
        "id": "iUlZUT3QPAkD"
      }
    },
    {
      "cell_type": "markdown",
      "source": [
        "## **Solución**"
      ],
      "metadata": {
        "id": "ihN5xtQWjVqL"
      }
    },
    {
      "cell_type": "markdown",
      "source": [
        "Para solucionar este problema debemos darnos cuenta que lo único que necesitamos determinar es una cota superior en los posibles números que cumplan con esta condición. Notemos que en el enunciado se nos dice que para cualquier potencia descartamos el número $1$ por ser un caso trivial. Esto a su vez debería permitirnos darnos cuenta que para la potencia $4$ los números que buscamos no necesariamente tendrán $4$ dígitos. Lo mismo para cualquier potencia, en caso de que se nos pase por alto y nos despistemos. \n",
        "\n",
        "Con esto claro notemos que para un número de $n$ dígitos, el máximo número que se puede alcanzar es $n\\times 9^{5}$. Así, para determinar nuestra cota superior basta determinar cuántos digitos debe tener nuestro número. Esto estimarse mediante el primer número $n$ tal que \n",
        "\n",
        "$$n\\times 9^{5} < \\underset{\\text{n veces}}{9\\ldots 9}$$"
      ],
      "metadata": {
        "id": "MIHgkC6okOM6"
      }
    },
    {
      "cell_type": "code",
      "source": [
        "#comparaciones para determinar 'n'\n",
        "for n in range(4, 11): #n = 4, 5, ..., 10\n",
        "  aux1 = int(n*str(9))\n",
        "  aux2 = n*9**5\n",
        "  if aux1 > aux2:\n",
        "    print('{} > {}'.format(aux1, aux2))\n",
        "    ns = n\n",
        "    break\n",
        "  else:\n",
        "    print('{} < {}'.format(aux1, aux2))\n"
      ],
      "metadata": {
        "colab": {
          "base_uri": "https://localhost:8080/"
        },
        "id": "VuTzFo5yeffO",
        "outputId": "a7aca181-4993-469a-ac92-27593427f87d"
      },
      "execution_count": 1,
      "outputs": [
        {
          "output_type": "stream",
          "name": "stdout",
          "text": [
            "9999 < 236196\n",
            "99999 < 295245\n",
            "999999 > 354294\n"
          ]
        }
      ]
    },
    {
      "cell_type": "code",
      "source": [
        "#numero 'n' para nuestra cota superior\n",
        "ns"
      ],
      "metadata": {
        "colab": {
          "base_uri": "https://localhost:8080/"
        },
        "id": "4l80D3nJmoN_",
        "outputId": "0da91780-ca78-406c-e990-817c2396722e"
      },
      "execution_count": 2,
      "outputs": [
        {
          "output_type": "execute_result",
          "data": {
            "text/plain": [
              "6"
            ]
          },
          "metadata": {},
          "execution_count": 2
        }
      ]
    },
    {
      "cell_type": "code",
      "source": [
        "#funcion para determinar la suma de las potencias de los digitos de un numero\n",
        "def suma_digitos_potencias(numero: int, potencia: int):\n",
        "  numero_str = str(numero)\n",
        "  return sum([int(i)**potencia for i in numero_str])\n"
      ],
      "metadata": {
        "id": "Wv17suRtY1_b"
      },
      "execution_count": 3,
      "outputs": []
    },
    {
      "cell_type": "code",
      "execution_count": 4,
      "metadata": {
        "id": "THbgVdcwO_K2"
      },
      "outputs": [],
      "source": [
        "potencia = 5\n",
        "cota_superior = 9**ns\n",
        "lista_numeros_potencias = []\n",
        "for numero in range(2, cota_superior):\n",
        "  if numero == suma_digitos_potencias(numero, potencia):\n",
        "    lista_numeros_potencias.append(numero)"
      ]
    },
    {
      "cell_type": "code",
      "source": [
        "print(\"La suma de los números de que pueden expresarse como la suma de sus dígitos elevados a la potencia {} es {}.\".format(potencia, sum(lista_numeros_potencias)))"
      ],
      "metadata": {
        "colab": {
          "base_uri": "https://localhost:8080/"
        },
        "id": "gsvKL2WKpr9J",
        "outputId": "75086bf9-94e2-4a66-9666-b357dcec0e3d"
      },
      "execution_count": 5,
      "outputs": [
        {
          "output_type": "stream",
          "name": "stdout",
          "text": [
            "La suma de los números de que pueden expresarse como la suma de sus dígitos elevados a la potencia 5 es 443839.\n"
          ]
        }
      ]
    },
    {
      "cell_type": "code",
      "source": [
        "#numeros\n",
        "lista_numeros_potencias"
      ],
      "metadata": {
        "colab": {
          "base_uri": "https://localhost:8080/"
        },
        "id": "kto74TJ5amV2",
        "outputId": "27fa2934-3895-46d4-cdb0-7d8f347edc7a"
      },
      "execution_count": 6,
      "outputs": [
        {
          "output_type": "execute_result",
          "data": {
            "text/plain": [
              "[4150, 4151, 54748, 92727, 93084, 194979]"
            ]
          },
          "metadata": {},
          "execution_count": 6
        }
      ]
    }
  ]
}